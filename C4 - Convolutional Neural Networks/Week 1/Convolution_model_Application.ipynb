{
 "cells": [
  {
   "cell_type": "markdown",
   "metadata": {},
   "source": [
    "# Convolutional Neural Networks: Application\n",
    "\n",
    "Welcome to Course 4's second assignment! In this notebook, you will:\n",
    "\n",
    "- Create a mood classifer using the TF Keras Sequential API\n",
    "- Build a ConvNet to identify sign language digits using the TF Keras Functional API\n",
    "\n",
    "**After this assignment you will be able to:**\n",
    "\n",
    "- Build and train a ConvNet in TensorFlow for a __binary__ classification problem\n",
    "- Build and train a ConvNet in TensorFlow for a __multiclass__ classification problem\n",
    "- Explain different use cases for the Sequential and Functional APIs\n",
    "\n",
    "To complete this assignment, you should already be familiar with TensorFlow. If you are not, please refer back to the **TensorFlow Tutorial** of the third week of Course 2 (\"**Improving deep neural networks**\")."
   ]
  },
  {
   "cell_type": "markdown",
   "metadata": {},
   "source": [
    "## Table of Contents\n",
    "\n",
    "- [1 - Packages](#1)\n",
    "    - [1.1 - Load the Data and Split the Data into Train/Test Sets](#1-1)\n",
    "- [2 - Layers in TF Keras](#2)\n",
    "- [3 - The Sequential API](#3)\n",
    "    - [3.1 - Create the Sequential Model](#3-1)\n",
    "        - [Exercise 1 - happyModel](#ex-1)\n",
    "    - [3.2 - Train and Evaluate the Model](#3-2)\n",
    "- [4 - The Functional API](#4)\n",
    "    - [4.1 - Load the SIGNS Dataset](#4-1)\n",
    "    - [4.2 - Split the Data into Train/Test Sets](#4-2)\n",
    "    - [4.3 - Forward Propagation](#4-3)\n",
    "        - [Exercise 2 - convolutional_model](#ex-2)\n",
    "    - [4.4 - Train the Model](#4-4)\n",
    "- [5 - History Object](#5)\n",
    "- [6 - Bibliography](#6)"
   ]
  },
  {
   "cell_type": "markdown",
   "metadata": {},
   "source": [
    "<a name='1'></a>\n",
    "## 1 - Packages\n",
    "\n",
    "As usual, begin by loading in the packages."
   ]
  },
  {
   "cell_type": "code",
   "execution_count": 1,
   "metadata": {},
   "outputs": [],
   "source": [
    "import math\n",
    "import numpy as np\n",
    "import h5py\n",
    "import matplotlib.pyplot as plt\n",
    "from matplotlib.pyplot import imread\n",
    "import scipy\n",
    "from PIL import Image\n",
    "import pandas as pd\n",
    "import tensorflow as tf\n",
    "import tensorflow.keras.layers as tfl\n",
    "from tensorflow.python.framework import ops\n",
    "from cnn_utils import *\n",
    "from test_utils import summary, comparator\n",
    "\n",
    "%matplotlib inline\n",
    "np.random.seed(1)"
   ]
  },
  {
   "cell_type": "markdown",
   "metadata": {},
   "source": [
    "<a name='1-1'></a>\n",
    "### 1.1 - Load the Data and Split the Data into Train/Test Sets\n",
    "\n",
    "You'll be using the Happy House dataset for this part of the assignment, which contains images of peoples' faces. Your task will be to build a ConvNet that determines whether the people in the images are smiling or not -- because they only get to enter the house if they're smiling!  "
   ]
  },
  {
   "cell_type": "code",
   "execution_count": 2,
   "metadata": {},
   "outputs": [
    {
     "name": "stdout",
     "output_type": "stream",
     "text": [
      "number of training examples = 600\n",
      "number of test examples = 150\n",
      "X_train shape: (600, 64, 64, 3)\n",
      "Y_train shape: (600, 1)\n",
      "X_test shape: (150, 64, 64, 3)\n",
      "Y_test shape: (150, 1)\n"
     ]
    }
   ],
   "source": [
    "X_train_orig, Y_train_orig, X_test_orig, Y_test_orig, classes = load_happy_dataset()\n",
    "\n",
    "# Normalize image vectors\n",
    "X_train = X_train_orig/255.\n",
    "X_test = X_test_orig/255.\n",
    "\n",
    "# Reshape\n",
    "Y_train = Y_train_orig.T\n",
    "Y_test = Y_test_orig.T\n",
    "\n",
    "print (\"number of training examples = \" + str(X_train.shape[0]))\n",
    "print (\"number of test examples = \" + str(X_test.shape[0]))\n",
    "print (\"X_train shape: \" + str(X_train.shape))\n",
    "print (\"Y_train shape: \" + str(Y_train.shape))\n",
    "print (\"X_test shape: \" + str(X_test.shape))\n",
    "print (\"Y_test shape: \" + str(Y_test.shape))"
   ]
  },
  {
   "cell_type": "markdown",
   "metadata": {},
   "source": [
    "You can display the images contained in the dataset. Images are **64x64** pixels in RGB format (3 channels)."
   ]
  },
  {
   "cell_type": "code",
   "execution_count": 3,
   "metadata": {},
   "outputs": [
    {
     "data": {
      "image/png": "[encoded data removed]",
      "text/plain": [
       "<Figure size 432x288 with 1 Axes>"
      ]
     },
     "metadata": {
      "needs_background": "light"
     },
     "output_type": "display_data"
    }
   ],
   "source": [
    "index = 124\n",
    "plt.imshow(X_train_orig[index]) #display sample training image\n",
    "plt.show()"
   ]
  },
  {
   "cell_type": "markdown",
   "metadata": {},
   "source": [
    "<a name='2'></a>\n",
    "## 2 - Layers in TF Keras \n",
    "\n",
    "In the previous assignment, you created layers manually in numpy. In TF Keras, you don't have to write code directly to create layers. Rather, TF Keras has pre-defined layers you can use. \n",
    "\n",
    "When you create a layer in TF Keras, you are creating a function that takes some input and transforms it into an output you can reuse later. Nice and easy! "
   ]
  },
  {
   "cell_type": "markdown",
   "metadata": {},
   "source": [
    "<a name='3'></a>\n",
    "## 3 - The Sequential API\n",
    "\n",
    "In the previous assignment, you built helper functions using `numpy` to understand the mechanics behind convolutional neural networks. Most practical applications of deep learning today are built using programming frameworks, which have many built-in functions you can simply call. Keras is a high-level abstraction built on top of TensorFlow, which allows for even more simplified and optimized model creation and training. \n",
    "\n",
    "For the first part of this assignment, you'll create a model using TF Keras' Sequential API, which allows you to build layer by layer, and is ideal for building models where each layer has **exactly one** input tensor and **one** output tensor. \n",
    "\n",
    "As you'll see, using the Sequential API is simple and straightforward, but is only appropriate for simpler, more straightforward tasks. Later in this notebook you'll spend some time building with a more flexible, powerful alternative: the Functional API. \n",
    " "
   ]
  },
  {
   "cell_type": "markdown",
   "metadata": {},
   "source": [
    "<a name='3-1'></a>\n",
    "### 3.1 - Create the Sequential Model\n",
    "\n",
    "As mentioned earlier, the TensorFlow Keras Sequential API can be used to build simple models with layer operations that proceed in a sequential order. \n",
    "\n",
    "You can also add layers incrementally to a Sequential model with the `.add()` method, or remove them using the `.pop()` method, much like you would in a regular Python list.\n",
    "\n",
    "Actually, you can think of a Sequential model as behaving like a list of layers. Like Python lists, Sequential layers are ordered, and the order in which they are specified matters.  If your model is non-linear or contains layers with multiple inputs or outputs, a Sequential model wouldn't be the right choice!\n",
    "\n",
    "For any layer construction in Keras, you'll need to specify the input shape in advance. This is because in Keras, the shape of the weights is based on the shape of the inputs. The weights are only created when the model first sees some input data. Sequential models can be created by passing a list of layers to the Sequential constructor, like you will do in the next assignment.\n",
    "\n",
    "<a name='ex-1'></a>\n",
    "### Exercise 1 - happyModel\n",
    "\n",
    "Implement the `happyModel` function below to build the following model: `ZEROPAD2D -> CONV2D -> BATCHNORM -> RELU -> MAXPOOL -> FLATTEN -> DENSE`. Take help from [tf.keras.layers](https://www.tensorflow.org/api_docs/python/tf/keras/layers) \n",
    "\n",
    "Also, plug in the following parameters for all the steps:\n",
    "\n",
    " - [ZeroPadding2D](https://www.tensorflow.org/api_docs/python/tf/keras/layers/ZeroPadding2D): padding 3, input shape 64 x 64 x 3\n",
    " - [Conv2D](https://www.tensorflow.org/api_docs/python/tf/keras/layers/Conv2D): Use 32 7x7 filters, stride 1\n",
    " - [BatchNormalization](https://www.tensorflow.org/api_docs/python/tf/keras/layers/BatchNormalization): for axis 3\n",
    " - [ReLU](https://www.tensorflow.org/api_docs/python/tf/keras/layers/ReLU)\n",
    " - [MaxPool2D](https://www.tensorflow.org/api_docs/python/tf/keras/layers/MaxPool2D): Using default parameters\n",
    " - [Flatten](https://www.tensorflow.org/api_docs/python/tf/keras/layers/Flatten) the previous output.\n",
    " - Fully-connected ([Dense](https://www.tensorflow.org/api_docs/python/tf/keras/layers/Dense)) layer: Apply a fully connected layer with 1 neuron and a sigmoid activation. \n",
    " \n",
    " \n",
    " **Hint:**\n",
    " \n",
    " Use **tfl** as shorthand for **tensorflow.keras.layers**"
   ]
  },
  {
   "cell_type": "code",
   "execution_count": 4,
   "metadata": {
    "deletable": false,
    "nbgrader": {
     "cell_type": "code",
     "checksum": "95d28b191f257bdd5b70c7b8952559d5",
     "grade": false,
     "grade_id": "cell-0e56d3fc28b69aec",
     "locked": false,
     "schema_version": 3,
     "solution": true,
     "task": false
    }
   },
   "outputs": [],
   "source": [
    "# GRADED FUNCTION: happyModel\n",
    "\n",
    "def happyModel():\n",
    "    \"\"\"\n",
    "    Implements the forward propagation for the binary classification model:\n",
    "    ZEROPAD2D -> CONV2D -> BATCHNORM -> RELU -> MAXPOOL -> FLATTEN -> DENSE\n",
    "    \n",
    "    Note that for simplicity and grading purposes, you'll hard-code all the values\n",
    "    such as the stride and kernel (filter) sizes. \n",
    "    Normally, functions should take these values as function parameters.\n",
    "    \n",
    "    Arguments:\n",
    "    None\n",
    "\n",
    "    Returns:\n",
    "    model -- TF Keras model (object containing the information for the entire training process) \n",
    "    \"\"\"\n",
    "    model = tf.keras.Sequential([\n",
    "            ## ZeroPadding2D with padding 3, input shape of 64 x 64 x 3\n",
    "            \n",
    "            ## Conv2D with 32 7x7 filters and stride of 1\n",
    "            \n",
    "            ## BatchNormalization for axis 3\n",
    "            \n",
    "            ## ReLU\n",
    "            \n",
    "            ## Max Pooling 2D with default parameters\n",
    "            \n",
    "            ## Flatten layer\n",
    "            \n",
    "            ## Dense layer with 1 unit for output & 'sigmoid' activation\n",
    "            \n",
    "            # YOUR CODE STARTS HERE\n",
    "            tf.keras.layers.ZeroPadding2D(3, input_shape = (64, 64, 3)),\n",
    "            tf.keras.layers.Conv2D(32, (7,7), strides = (1, 1)),\n",
    "            tf.keras.layers.BatchNormalization(),\n",
    "            tf.keras.layers.ReLU(),\n",
    "            tf.keras.layers.MaxPool2D(),\n",
    "            tf.keras.layers.Flatten(),\n",
    "            tf.keras.layers.Dense(1, activation = \"sigmoid\")\n",
    "            # YOUR CODE ENDS HERE\n",
    "        ])\n",
    "    \n",
    "    return model"
   ]
  },
  {
   "cell_type": "code",
   "execution_count": 5,
   "metadata": {
    "deletable": false,
    "editable": false,
    "nbgrader": {
     "cell_type": "code",
     "checksum": "8d3575c950e2e78149be2d05d671c80d",
     "grade": true,
     "grade_id": "cell-e3e1046e5c33d775",
     "locked": true,
     "points": 10,
     "schema_version": 3,
     "solution": false,
     "task": false
    }
   },
   "outputs": [
    {
     "name": "stdout",
     "output_type": "stream",
     "text": [
      "['ZeroPadding2D', (None, 70, 70, 3), 0, ((3, 3), (3, 3))]\n",
      "['Conv2D', (None, 64, 64, 32), 4736, 'valid', 'linear', 'GlorotUniform']\n",
      "['BatchNormalization', (None, 64, 64, 32), 128]\n",
      "['ReLU', (None, 64, 64, 32), 0]\n",
      "['MaxPooling2D', (None, 32, 32, 32), 0, (2, 2), (2, 2), 'valid']\n",
      "['Flatten', (None, 32768), 0]\n",
      "['Dense', (None, 1), 32769, 'sigmoid']\n",
      "\u001b[32mAll tests passed!\u001b[0m\n"
     ]
    }
   ],
   "source": [
    "happy_model = happyModel()\n",
    "# Print a summary for each layer\n",
    "for layer in summary(happy_model):\n",
    "    print(layer)\n",
    "    \n",
    "output = [['ZeroPadding2D', (None, 70, 70, 3), 0, ((3, 3), (3, 3))],\n",
    "            ['Conv2D', (None, 64, 64, 32), 4736, 'valid', 'linear', 'GlorotUniform'],\n",
    "            ['BatchNormalization', (None, 64, 64, 32), 128],\n",
    "            ['ReLU', (None, 64, 64, 32), 0],\n",
    "            ['MaxPooling2D', (None, 32, 32, 32), 0, (2, 2), (2, 2), 'valid'],\n",
    "            ['Flatten', (None, 32768), 0],\n",
    "            ['Dense', (None, 1), 32769, 'sigmoid']]\n",
    "    \n",
    "comparator(summary(happy_model), output)"
   ]
  },
  {
   "cell_type": "markdown",
   "metadata": {},
   "source": [
    "Now that your model is created, you can compile it for training with an optimizer and loss of your choice. When the string `accuracy` is specified as a metric, the type of accuracy used will be automatically converted based on the loss function used. This is one of the many optimizations built into TensorFlow that make your life easier! If you'd like to read more on how the compiler operates, check the docs [here](https://www.tensorflow.org/api_docs/python/tf/keras/Model#compile)."
   ]
  },
  {
   "cell_type": "code",
   "execution_count": 6,
   "metadata": {},
   "outputs": [],
   "source": [
    "happy_model.compile(optimizer='adam',\n",
    "                   loss='binary_crossentropy',\n",
    "                   metrics=['accuracy'])"
   ]
  },
  {
   "cell_type": "markdown",
   "metadata": {},
   "source": [
    "It's time to check your model's parameters with the `.summary()` method. This will display the types of layers you have, the shape of the outputs, and how many parameters are in each layer. "
   ]
  },
  {
   "cell_type": "code",
   "execution_count": 7,
   "metadata": {},
   "outputs": [
    {
     "name": "stdout",
     "output_type": "stream",
     "text": [
      "Model: \"sequential\"\n",
      "_________________________________________________________________\n",
      "Layer (type)                 Output Shape              Param #   \n",
      "=================================================================\n",
      "zero_padding2d (ZeroPadding2 (None, 70, 70, 3)         0         \n",
      "_________________________________________________________________\n",
      "conv2d (Conv2D)              (None, 64, 64, 32)        4736      \n",
      "_________________________________________________________________\n",
      "batch_normalization (BatchNo (None, 64, 64, 32)        128       \n",
      "_________________________________________________________________\n",
      "re_lu (ReLU)                 (None, 64, 64, 32)        0         \n",
      "_________________________________________________________________\n",
      "max_pooling2d (MaxPooling2D) (None, 32, 32, 32)        0         \n",
      "_________________________________________________________________\n",
      "flatten (Flatten)            (None, 32768)             0         \n",
      "_________________________________________________________________\n",
      "dense (Dense)                (None, 1)                 32769     \n",
      "=================================================================\n",
      "Total params: 37,633\n",
      "Trainable params: 37,569\n",
      "Non-trainable params: 64\n",
      "_________________________________________________________________\n"
     ]
    }
   ],
   "source": [
    "happy_model.summary()"
   ]
  },
  {
   "cell_type": "markdown",
   "metadata": {},
   "source": [
    "<a name='3-2'></a>\n",
    "### 3.2 - Train and Evaluate the Model\n",
    "\n",
    "After creating the model, compiling it with your choice of optimizer and loss function, and doing a sanity check on its contents, you are now ready to build! \n",
    "\n",
    "Simply call `.fit()` to train. That's it! No need for mini-batching, saving, or complex backpropagation computations. That's all been done for you, as you're using a TensorFlow dataset with the batches specified already. You do have the option to specify epoch number or minibatch size if you like (for example, in the case of an un-batched dataset)."
   ]
  },
  {
   "cell_type": "code",
   "execution_count": 8,
   "metadata": {},
   "outputs": [
    {
     "name": "stdout",
     "output_type": "stream",
     "text": [
      "Epoch 1/10\n",
      "38/38 [==============================] - 4s 92ms/step - loss: 1.2041 - accuracy: 0.7133\n",
      "Epoch 2/10\n",
      "38/38 [==============================] - 3s 89ms/step - loss: 0.2286 - accuracy: 0.9300\n",
      "Epoch 3/10\n",
      "38/38 [==============================] - 3s 89ms/step - loss: 0.1439 - accuracy: 0.9483\n",
      "Epoch 4/10\n",
      "38/38 [==============================] - 3s 87ms/step - loss: 0.1273 - accuracy: 0.9433\n",
      "Epoch 5/10\n",
      "38/38 [==============================] - 3s 87ms/step - loss: 0.1010 - accuracy: 0.9583\n",
      "Epoch 6/10\n",
      "38/38 [==============================] - 3s 89ms/step - loss: 0.1224 - accuracy: 0.9550\n",
      "Epoch 7/10\n",
      "38/38 [==============================] - 3s 89ms/step - loss: 0.0934 - accuracy: 0.9667\n",
      "Epoch 8/10\n",
      "38/38 [==============================] - 3s 90ms/step - loss: 0.1124 - accuracy: 0.9667\n",
      "Epoch 9/10\n",
      "38/38 [==============================] - 3s 89ms/step - loss: 0.0897 - accuracy: 0.9700\n",
      "Epoch 10/10\n",
      "38/38 [==============================] - 3s 90ms/step - loss: 0.0864 - accuracy: 0.9733\n"
     ]
    },
    {
     "data": {
      "text/plain": [
       "<tensorflow.python.keras.callbacks.History at 0x7f675cb07090>"
      ]
     },
     "execution_count": 8,
     "metadata": {},
     "output_type": "execute_result"
    }
   ],
   "source": [
    "happy_model.fit(X_train, Y_train, epochs=10, batch_size=16)"
   ]
  },
  {
   "cell_type": "markdown",
   "metadata": {},
   "source": [
    "After that completes, just use `.evaluate()` to evaluate against your test set. This function will print the value of the loss function and the performance metrics specified during the compilation of the model. In this case, the `binary_crossentropy` and the `accuracy` respectively."
   ]
  },
  {
   "cell_type": "code",
   "execution_count": 9,
   "metadata": {},
   "outputs": [
    {
     "name": "stdout",
     "output_type": "stream",
     "text": [
      "5/5 [==============================] - 0s 38ms/step - loss: 0.3765 - accuracy: 0.8333\n"
     ]
    },
    {
     "data": {
      "text/plain": [
       "[0.3765244781970978, 0.8333333134651184]"
      ]
     },
     "execution_count": 9,
     "metadata": {},
     "output_type": "execute_result"
    }
   ],
   "source": [
    "happy_model.evaluate(X_test, Y_test)"
   ]
  },
  {
   "cell_type": "markdown",
   "metadata": {},
   "source": [
    "Easy, right? But what if you need to build a model with shared layers, branches, or multiple inputs and outputs? This is where Sequential, with its beautifully simple yet limited functionality, won't be able to help you. \n",
    "\n",
    "Next up: Enter the Functional API, your slightly more complex, highly flexible friend.  "
   ]
  },
  {
   "cell_type": "markdown",
   "metadata": {},
   "source": [
    "<a name='4'></a>\n",
    "## 4 - The Functional API"
   ]
  },
  {
   "cell_type": "markdown",
   "metadata": {},
   "source": [
    "Welcome to the second half of the assignment, where you'll use Keras' flexible [Functional API](https://www.tensorflow.org/guide/keras/functional) to build a ConvNet that can differentiate between 6 sign language digits. \n",
    "\n",
    "The Functional API can handle models with non-linear topology, shared layers, as well as layers with multiple inputs or outputs. Imagine that, where the Sequential API requires the model to move in a linear fashion through its layers, the Functional API allows much more flexibility. Where Sequential is a straight line, a Functional model is a graph, where the nodes of the layers can connect in many more ways than one. \n",
    "\n",
    "In the visual example below, the one possible direction of the movement Sequential model is shown in contrast to a skip connection, which is just one of the many ways a Functional model can be constructed. A skip connection, as you might have guessed, skips some layer in the network and feeds the output to a later layer in the network. Don't worry, you'll be spending more time with skip connections very soon! "
   ]
  },
  {
   "cell_type": "markdown",
   "metadata": {},
   "source": [
    "<img src=\"images/seq_vs_func.png\" style=\"width:350px;height:200px;\">"
   ]
  },
  {
   "cell_type": "markdown",
   "metadata": {},
   "source": [
    "<a name='4-1'></a>\n",
    "### 4.1 - Load the SIGNS Dataset\n",
    "\n",
    "As a reminder, the SIGNS dataset is a collection of 6 signs representing numbers from 0 to 5."
   ]
  },
  {
   "cell_type": "code",
   "execution_count": 10,
   "metadata": {},
   "outputs": [],
   "source": [
    "# Loading the data (signs)\n",
    "X_train_orig, Y_train_orig, X_test_orig, Y_test_orig, classes = load_signs_dataset()"
   ]
  },
  {
   "cell_type": "markdown",
   "metadata": {},
   "source": [
    "<img src=\"images/SIGNS.png\" style=\"width:800px;height:300px;\">\n",
    "\n",
    "The next cell will show you an example of a labelled image in the dataset. Feel free to change the value of `index` below and re-run to see different examples. "
   ]
  },
  {
   "cell_type": "code",
   "execution_count": 11,
   "metadata": {},
   "outputs": [
    {
     "name": "stdout",
     "output_type": "stream",
     "text": [
      "y = 4\n"
     ]
    },
    {
     "data": {
      "image/png": "[encoded data removed]",
      "text/plain": [
       "<Figure size 432x288 with 1 Axes>"
      ]
     },
     "metadata": {
      "needs_background": "light"
     },
     "output_type": "display_data"
    }
   ],
   "source": [
    "# Example of an image from the dataset\n",
    "index = 9\n",
    "plt.imshow(X_train_orig[index])\n",
    "print (\"y = \" + str(np.squeeze(Y_train_orig[:, index])))"
   ]
  },
  {
   "cell_type": "markdown",
   "metadata": {},
   "source": [
    "<a name='4-2'></a>\n",
    "### 4.2 - Split the Data into Train/Test Sets\n",
    "\n",
    "In Course 2, you built a fully-connected network for this dataset. But since this is an image dataset, it is more natural to apply a ConvNet to it.\n",
    "\n",
    "To get started, let's examine the shapes of your data. "
   ]
  },
  {
   "cell_type": "code",
   "execution_count": 12,
   "metadata": {},
   "outputs": [
    {
     "name": "stdout",
     "output_type": "stream",
     "text": [
      "number of training examples = 1080\n",
      "number of test examples = 120\n",
      "X_train shape: (1080, 64, 64, 3)\n",
      "Y_train shape: (1080, 6)\n",
      "X_test shape: (120, 64, 64, 3)\n",
      "Y_test shape: (120, 6)\n"
     ]
    }
   ],
   "source": [
    "X_train = X_train_orig/255.\n",
    "X_test = X_test_orig/255.\n",
    "Y_train = convert_to_one_hot(Y_train_orig, 6).T\n",
    "Y_test = convert_to_one_hot(Y_test_orig, 6).T\n",
    "print (\"number of training examples = \" + str(X_train.shape[0]))\n",
    "print (\"number of test examples = \" + str(X_test.shape[0]))\n",
    "print (\"X_train shape: \" + str(X_train.shape))\n",
    "print (\"Y_train shape: \" + str(Y_train.shape))\n",
    "print (\"X_test shape: \" + str(X_test.shape))\n",
    "print (\"Y_test shape: \" + str(Y_test.shape))"
   ]
  },
  {
   "cell_type": "markdown",
   "metadata": {},
   "source": [
    "<a name='4-3'></a>\n",
    "### 4.3 - Forward Propagation\n",
    "\n",
    "In TensorFlow, there are built-in functions that implement the convolution steps for you. By now, you should be familiar with how TensorFlow builds computational graphs. In the [Functional API](https://www.tensorflow.org/guide/keras/functional), you create a graph of layers. This is what allows such great flexibility.\n",
    "\n",
    "However, the following model could also be defined using the Sequential API since the information flow is on a single line. But don't deviate. What we want you to learn is to use the functional API.\n",
    "\n",
    "Begin building your graph of layers by creating an input node that functions as a callable object:\n",
    "\n",
    "- **input_img = tf.keras.Input(shape=input_shape):** \n",
    "\n",
    "Then, create a new node in the graph of layers by calling a layer on the `input_img` object: \n",
    "\n",
    "- **tf.keras.layers.Conv2D(filters= ... , kernel_size= ... , padding='same')(input_img):** Read the full documentation on [Conv2D](https://www.tensorflow.org/api_docs/python/tf/keras/layers/Conv2D).\n",
    "\n",
    "- **tf.keras.layers.MaxPool2D(pool_size=(f, f), strides=(s, s), padding='same'):** `MaxPool2D()` downsamples your input using a window of size (f, f) and strides of size (s, s) to carry out max pooling over each window.  For max pooling, you usually operate on a single example at a time and a single channel at a time. Read the full documentation on [MaxPool2D](https://www.tensorflow.org/api_docs/python/tf/keras/layers/MaxPool2D).\n",
    "\n",
    "- **tf.keras.layers.ReLU():** computes the elementwise ReLU of Z (which can be any shape). You can read the full documentation on [ReLU](https://www.tensorflow.org/api_docs/python/tf/keras/layers/ReLU).\n",
    "\n",
    "- **tf.keras.layers.Flatten()**: given a tensor \"P\", this function takes each training (or test) example in the batch and flattens it into a 1D vector.  \n",
    "\n",
    "    * If a tensor P has the shape (batch_size,h,w,c), it returns a flattened tensor with shape (batch_size, k), where $k=h \\times w \\times c$.  \"k\" equals the product of all the dimension sizes other than the first dimension.\n",
    "    \n",
    "    * For example, given a tensor with dimensions [100, 2, 3, 4], it flattens the tensor to be of shape [100, 24], where 24 = 2 * 3 * 4.  You can read the full documentation on [Flatten](https://www.tensorflow.org/api_docs/python/tf/keras/layers/Flatten).\n",
    "\n",
    "- **tf.keras.layers.Dense(units= ... , activation='softmax')(F):** given the flattened input F, it returns the output computed using a fully connected layer. You can read the full documentation on [Dense](https://www.tensorflow.org/api_docs/python/tf/keras/layers/Dense).\n",
    "\n",
    "In the last function above (`tf.keras.layers.Dense()`), the fully connected layer automatically initializes weights in the graph and keeps on training them as you train the model. Hence, you did not need to initialize those weights when initializing the parameters.\n",
    "\n",
    "Lastly, before creating the model, you'll need to define the output using the last of the function's compositions (in this example, a Dense layer): \n",
    "\n",
    "- **outputs = tf.keras.layers.Dense(units=6, activation='softmax')(F)**\n",
    "\n",
    "\n",
    "#### Window, kernel, filter, pool\n",
    "\n",
    "The words \"kernel\" and \"filter\" are used to refer to the same thing. The word \"filter\" accounts for the amount of \"kernels\" that will be used in a single convolution layer. \"Pool\" is the name of the operation that takes the max or average value of the kernels. \n",
    "\n",
    "This is why the parameter `pool_size` refers to `kernel_size`, and you use `(f,f)` to refer to the filter size. \n",
    "\n",
    "Pool size and kernel size refer to the same thing in different objects - They refer to the shape of the window where the operation takes place. "
   ]
  },
  {
   "cell_type": "markdown",
   "metadata": {},
   "source": [
    "<a name='ex-2'></a>\n",
    "### Exercise 2 - convolutional_model\n",
    "\n",
    "Implement the `convolutional_model` function below to build the following model: `CONV2D -> RELU -> MAXPOOL -> CONV2D -> RELU -> MAXPOOL -> FLATTEN -> DENSE`. Use the functions above! \n",
    "\n",
    "Also, plug in the following parameters for all the steps:\n",
    "\n",
    " - [Conv2D](https://www.tensorflow.org/api_docs/python/tf/keras/layers/Conv2D): Use 8 4 by 4 filters, stride 1, padding is \"SAME\"\n",
    " - [ReLU](https://www.tensorflow.org/api_docs/python/tf/keras/layers/ReLU)\n",
    " - [MaxPool2D](https://www.tensorflow.org/api_docs/python/tf/keras/layers/MaxPool2D): Use an 8 by 8 filter size and an 8 by 8 stride, padding is \"SAME\"\n",
    " - **Conv2D**: Use 16 2 by 2 filters, stride 1, padding is \"SAME\"\n",
    " - **ReLU**\n",
    " - **MaxPool2D**: Use a 4 by 4 filter size and a 4 by 4 stride, padding is \"SAME\"\n",
    " - [Flatten](https://www.tensorflow.org/api_docs/python/tf/keras/layers/Flatten) the previous output.\n",
    " - Fully-connected ([Dense](https://www.tensorflow.org/api_docs/python/tf/keras/layers/Dense)) layer: Apply a fully connected layer with 6 neurons and a softmax activation. "
   ]
  },
  {
   "cell_type": "code",
   "execution_count": 13,
   "metadata": {
    "deletable": false,
    "nbgrader": {
     "cell_type": "code",
     "checksum": "f58643806aa8380c96225fc8b4c5e7aa",
     "grade": false,
     "grade_id": "cell-dac51744a9e03f51",
     "locked": false,
     "schema_version": 3,
     "solution": true,
     "task": false
    }
   },
   "outputs": [],
   "source": [
    "# GRADED FUNCTION: convolutional_model\n",
    "\n",
    "def convolutional_model(input_shape):\n",
    "    \"\"\"\n",
    "    Implements the forward propagation for the model:\n",
    "    CONV2D -> RELU -> MAXPOOL -> CONV2D -> RELU -> MAXPOOL -> FLATTEN -> DENSE\n",
    "    \n",
    "    Note that for simplicity and grading purposes, you'll hard-code some values\n",
    "    such as the stride and kernel (filter) sizes. \n",
    "    Normally, functions should take these values as function parameters.\n",
    "    \n",
    "    Arguments:\n",
    "    input_img -- input dataset, of shape (input_shape)\n",
    "\n",
    "    Returns:\n",
    "    model -- TF Keras model (object containing the information for the entire training process) \n",
    "    \"\"\"\n",
    "\n",
    "    input_img = tf.keras.Input(shape=input_shape)\n",
    "    ## CONV2D: 8 filters 4x4, stride of 1, padding 'SAME'\n",
    "    # Z1 = None\n",
    "    ## RELU\n",
    "    # A1 = None\n",
    "    ## MAXPOOL: window 8x8, stride 8, padding 'SAME'\n",
    "    # P1 = None\n",
    "    ## CONV2D: 16 filters 2x2, stride 1, padding 'SAME'\n",
    "    # Z2 = None\n",
    "    ## RELU\n",
    "    # A2 = None\n",
    "    ## MAXPOOL: window 4x4, stride 4, padding 'SAME'\n",
    "    # P2 = None\n",
    "    ## FLATTEN\n",
    "    # F = None\n",
    "    ## Dense layer\n",
    "    ## 6 neurons in output layer. Hint: one of the arguments should be \"activation='softmax'\" \n",
    "    # outputs = None\n",
    "    # YOUR CODE STARTS HERE\n",
    "    Z1 = tf.keras.layers.Conv2D(8, (4,4), strides = (1,1), padding =\"SAME\")(input_img)\n",
    "    A1 = tf.keras.layers.ReLU()(Z1)\n",
    "    P1 = tf.keras.layers.MaxPool2D(pool_size = (8,8), strides = (8,8), padding = \"SAME\")(A1)\n",
    "    Z2 = tf.keras.layers.Conv2D(16 , (2,2), strides = (1,1),  padding = \"SAME\")(P1)\n",
    "    A2 = tf.keras.layers.ReLU()(Z2)\n",
    "    P2 = tf.keras.layers.MaxPool2D(pool_size = (4,4), strides = (4,4), padding = \"SAME\")(A2)\n",
    "    F = tf.keras.layers.Flatten()(P2)\n",
    "    outputs =  tf.keras.layers.Dense(6, activation = \"softmax\")(F)\n",
    "    # YOUR CODE ENDS HERE\n",
    "    model = tf.keras.Model(inputs=input_img, outputs=outputs)\n",
    "    return model"
   ]
  },
  {
   "cell_type": "code",
   "execution_count": 14,
   "metadata": {
    "deletable": false,
    "editable": false,
    "nbgrader": {
     "cell_type": "code",
     "checksum": "483d626949930a0b0ef20997e7c6ba72",
     "grade": true,
     "grade_id": "cell-45d22e92042174c9",
     "locked": true,
     "points": 10,
     "schema_version": 3,
     "solution": false,
     "task": false
    }
   },
   "outputs": [
    {
     "name": "stdout",
     "output_type": "stream",
     "text": [
      "Model: \"functional_1\"\n",
      "_________________________________________________________________\n",
      "Layer (type)                 Output Shape              Param #   \n",
      "=================================================================\n",
      "input_1 (InputLayer)         [(None, 64, 64, 3)]       0         \n",
      "_________________________________________________________________\n",
      "conv2d_1 (Conv2D)            (None, 64, 64, 8)         392       \n",
      "_________________________________________________________________\n",
      "re_lu_1 (ReLU)               (None, 64, 64, 8)         0         \n",
      "_________________________________________________________________\n",
      "max_pooling2d_1 (MaxPooling2 (None, 8, 8, 8)           0         \n",
      "_________________________________________________________________\n",
      "conv2d_2 (Conv2D)            (None, 8, 8, 16)          528       \n",
      "_________________________________________________________________\n",
      "re_lu_2 (ReLU)               (None, 8, 8, 16)          0         \n",
      "_________________________________________________________________\n",
      "max_pooling2d_2 (MaxPooling2 (None, 2, 2, 16)          0         \n",
      "_________________________________________________________________\n",
      "flatten_1 (Flatten)          (None, 64)                0         \n",
      "_________________________________________________________________\n",
      "dense_1 (Dense)              (None, 6)                 390       \n",
      "=================================================================\n",
      "Total params: 1,310\n",
      "Trainable params: 1,310\n",
      "Non-trainable params: 0\n",
      "_________________________________________________________________\n",
      "\u001b[32mAll tests passed!\u001b[0m\n"
     ]
    }
   ],
   "source": [
    "conv_model = convolutional_model((64, 64, 3))\n",
    "conv_model.compile(optimizer='adam',\n",
    "                  loss='categorical_crossentropy',\n",
    "                  metrics=['accuracy'])\n",
    "conv_model.summary()\n",
    "    \n",
    "output = [['InputLayer', [(None, 64, 64, 3)], 0],\n",
    "        ['Conv2D', (None, 64, 64, 8), 392, 'same', 'linear', 'GlorotUniform'],\n",
    "        ['ReLU', (None, 64, 64, 8), 0],\n",
    "        ['MaxPooling2D', (None, 8, 8, 8), 0, (8, 8), (8, 8), 'same'],\n",
    "        ['Conv2D', (None, 8, 8, 16), 528, 'same', 'linear', 'GlorotUniform'],\n",
    "        ['ReLU', (None, 8, 8, 16), 0],\n",
    "        ['MaxPooling2D', (None, 2, 2, 16), 0, (4, 4), (4, 4), 'same'],\n",
    "        ['Flatten', (None, 64), 0],\n",
    "        ['Dense', (None, 6), 390, 'softmax']]\n",
    "    \n",
    "comparator(summary(conv_model), output)"
   ]
  },
  {
   "cell_type": "markdown",
   "metadata": {},
   "source": [
    "Both the Sequential and Functional APIs return a TF Keras model object. The only difference is how inputs are handled inside the object model! "
   ]
  },
  {
   "cell_type": "markdown",
   "metadata": {},
   "source": [
    "<a name='4-4'></a>\n",
    "### 4.4 - Train the Model"
   ]
  },
  {
   "cell_type": "code",
   "execution_count": 15,
   "metadata": {},
   "outputs": [
    {
     "name": "stdout",
     "output_type": "stream",
     "text": [
      "Epoch 1/100\n",
      "17/17 [==============================] - 2s 106ms/step - loss: 1.8382 - accuracy: 0.1389 - val_loss: 1.7866 - val_accuracy: 0.1750\n",
      "Epoch 2/100\n",
      "17/17 [==============================] - 2s 100ms/step - loss: 1.7878 - accuracy: 0.1361 - val_loss: 1.7831 - val_accuracy: 0.1750\n",
      "Epoch 3/100\n",
      "17/17 [==============================] - 2s 95ms/step - loss: 1.7825 - accuracy: 0.2537 - val_loss: 1.7792 - val_accuracy: 0.2667\n",
      "Epoch 4/100\n",
      "17/17 [==============================] - 2s 96ms/step - loss: 1.7784 - accuracy: 0.2056 - val_loss: 1.7756 - val_accuracy: 0.2417\n",
      "Epoch 5/100\n",
      "17/17 [==============================] - 2s 100ms/step - loss: 1.7750 - accuracy: 0.2407 - val_loss: 1.7707 - val_accuracy: 0.3583\n",
      "Epoch 6/100\n",
      "17/17 [==============================] - 2s 100ms/step - loss: 1.7699 - accuracy: 0.3194 - val_loss: 1.7665 - val_accuracy: 0.3583\n",
      "Epoch 7/100\n",
      "17/17 [==============================] - 2s 95ms/step - loss: 1.7640 - accuracy: 0.3583 - val_loss: 1.7619 - val_accuracy: 0.3917\n",
      "Epoch 8/100\n",
      "17/17 [==============================] - 2s 100ms/step - loss: 1.7583 - accuracy: 0.3759 - val_loss: 1.7556 - val_accuracy: 0.4250\n",
      "Epoch 9/100\n",
      "17/17 [==============================] - 2s 100ms/step - loss: 1.7517 - accuracy: 0.3917 - val_loss: 1.7486 - val_accuracy: 0.4417\n",
      "Epoch 10/100\n",
      "17/17 [==============================] - 2s 100ms/step - loss: 1.7437 - accuracy: 0.4148 - val_loss: 1.7407 - val_accuracy: 0.4500\n",
      "Epoch 11/100\n",
      "17/17 [==============================] - 2s 95ms/step - loss: 1.7339 - accuracy: 0.4139 - val_loss: 1.7322 - val_accuracy: 0.4500\n",
      "Epoch 12/100\n",
      "17/17 [==============================] - 2s 100ms/step - loss: 1.7245 - accuracy: 0.4148 - val_loss: 1.7215 - val_accuracy: 0.4667\n",
      "Epoch 13/100\n",
      "17/17 [==============================] - 2s 100ms/step - loss: 1.7115 - accuracy: 0.4389 - val_loss: 1.7095 - val_accuracy: 0.4917\n",
      "Epoch 14/100\n",
      "17/17 [==============================] - 2s 100ms/step - loss: 1.6968 - accuracy: 0.4444 - val_loss: 1.6954 - val_accuracy: 0.5167\n",
      "Epoch 15/100\n",
      "17/17 [==============================] - 2s 100ms/step - loss: 1.6798 - accuracy: 0.4630 - val_loss: 1.6789 - val_accuracy: 0.5083\n",
      "Epoch 16/100\n",
      "17/17 [==============================] - 2s 100ms/step - loss: 1.6599 - accuracy: 0.4824 - val_loss: 1.6602 - val_accuracy: 0.4833\n",
      "Epoch 17/100\n",
      "17/17 [==============================] - 2s 100ms/step - loss: 1.6383 - accuracy: 0.4769 - val_loss: 1.6388 - val_accuracy: 0.4667\n",
      "Epoch 18/100\n",
      "17/17 [==============================] - 2s 105ms/step - loss: 1.6122 - accuracy: 0.4870 - val_loss: 1.6152 - val_accuracy: 0.4833\n",
      "Epoch 19/100\n",
      "17/17 [==============================] - 2s 105ms/step - loss: 1.5854 - accuracy: 0.4898 - val_loss: 1.5876 - val_accuracy: 0.4917\n",
      "Epoch 20/100\n",
      "17/17 [==============================] - 2s 100ms/step - loss: 1.5555 - accuracy: 0.5083 - val_loss: 1.5572 - val_accuracy: 0.5250\n",
      "Epoch 21/100\n",
      "17/17 [==============================] - 2s 100ms/step - loss: 1.5226 - accuracy: 0.5204 - val_loss: 1.5281 - val_accuracy: 0.5167\n",
      "Epoch 22/100\n",
      "17/17 [==============================] - 2s 100ms/step - loss: 1.4890 - accuracy: 0.5306 - val_loss: 1.4915 - val_accuracy: 0.5500\n",
      "Epoch 23/100\n",
      "17/17 [==============================] - 2s 100ms/step - loss: 1.4527 - accuracy: 0.5519 - val_loss: 1.4630 - val_accuracy: 0.5167\n",
      "Epoch 24/100\n",
      "17/17 [==============================] - 2s 100ms/step - loss: 1.4147 - accuracy: 0.5731 - val_loss: 1.4288 - val_accuracy: 0.5333\n",
      "Epoch 25/100\n",
      "17/17 [==============================] - 2s 100ms/step - loss: 1.3761 - accuracy: 0.5843 - val_loss: 1.3849 - val_accuracy: 0.5333\n",
      "Epoch 26/100\n",
      "17/17 [==============================] - 2s 100ms/step - loss: 1.3313 - accuracy: 0.6009 - val_loss: 1.3464 - val_accuracy: 0.5417\n",
      "Epoch 27/100\n",
      "17/17 [==============================] - 2s 100ms/step - loss: 1.2880 - accuracy: 0.6139 - val_loss: 1.3017 - val_accuracy: 0.5583\n",
      "Epoch 28/100\n",
      "17/17 [==============================] - 2s 100ms/step - loss: 1.2461 - accuracy: 0.6120 - val_loss: 1.2686 - val_accuracy: 0.5583\n",
      "Epoch 29/100\n",
      "17/17 [==============================] - 2s 100ms/step - loss: 1.2071 - accuracy: 0.6241 - val_loss: 1.2284 - val_accuracy: 0.5667\n",
      "Epoch 30/100\n",
      "17/17 [==============================] - 2s 99ms/step - loss: 1.1697 - accuracy: 0.6361 - val_loss: 1.1990 - val_accuracy: 0.5750\n",
      "Epoch 31/100\n",
      "17/17 [==============================] - 2s 100ms/step - loss: 1.1358 - accuracy: 0.6454 - val_loss: 1.1647 - val_accuracy: 0.5833\n",
      "Epoch 32/100\n",
      "17/17 [==============================] - 2s 100ms/step - loss: 1.1048 - accuracy: 0.6537 - val_loss: 1.1386 - val_accuracy: 0.6083\n",
      "Epoch 33/100\n",
      "17/17 [==============================] - 2s 101ms/step - loss: 1.0763 - accuracy: 0.6565 - val_loss: 1.1086 - val_accuracy: 0.6250\n",
      "Epoch 34/100\n",
      "17/17 [==============================] - 2s 100ms/step - loss: 1.0485 - accuracy: 0.6667 - val_loss: 1.0844 - val_accuracy: 0.6250\n",
      "Epoch 35/100\n",
      "17/17 [==============================] - 2s 99ms/step - loss: 1.0243 - accuracy: 0.6741 - val_loss: 1.0563 - val_accuracy: 0.6250\n",
      "Epoch 36/100\n",
      "17/17 [==============================] - 2s 100ms/step - loss: 1.0017 - accuracy: 0.6870 - val_loss: 1.0388 - val_accuracy: 0.6333\n",
      "Epoch 37/100\n",
      "17/17 [==============================] - 2s 100ms/step - loss: 0.9797 - accuracy: 0.6935 - val_loss: 1.0135 - val_accuracy: 0.6333\n",
      "Epoch 38/100\n",
      "17/17 [==============================] - 2s 99ms/step - loss: 0.9589 - accuracy: 0.6981 - val_loss: 0.9942 - val_accuracy: 0.6500\n",
      "Epoch 39/100\n",
      "17/17 [==============================] - 2s 100ms/step - loss: 0.9394 - accuracy: 0.7037 - val_loss: 0.9745 - val_accuracy: 0.6500\n",
      "Epoch 40/100\n",
      "17/17 [==============================] - 2s 105ms/step - loss: 0.9211 - accuracy: 0.7074 - val_loss: 0.9592 - val_accuracy: 0.6583\n",
      "Epoch 41/100\n",
      "17/17 [==============================] - 2s 101ms/step - loss: 0.9042 - accuracy: 0.7130 - val_loss: 0.9442 - val_accuracy: 0.6750\n",
      "Epoch 42/100\n",
      "17/17 [==============================] - 2s 96ms/step - loss: 0.8882 - accuracy: 0.7176 - val_loss: 0.9312 - val_accuracy: 0.6750\n",
      "Epoch 43/100\n",
      "17/17 [==============================] - 2s 100ms/step - loss: 0.8731 - accuracy: 0.7222 - val_loss: 0.9183 - val_accuracy: 0.6750\n",
      "Epoch 44/100\n",
      "17/17 [==============================] - 2s 100ms/step - loss: 0.8592 - accuracy: 0.7241 - val_loss: 0.9070 - val_accuracy: 0.6667\n",
      "Epoch 45/100\n",
      "17/17 [==============================] - 2s 105ms/step - loss: 0.8460 - accuracy: 0.7296 - val_loss: 0.8957 - val_accuracy: 0.6750\n",
      "Epoch 46/100\n",
      "17/17 [==============================] - 2s 100ms/step - loss: 0.8335 - accuracy: 0.7324 - val_loss: 0.8856 - val_accuracy: 0.6750\n",
      "Epoch 47/100\n",
      "17/17 [==============================] - 2s 99ms/step - loss: 0.8218 - accuracy: 0.7389 - val_loss: 0.8759 - val_accuracy: 0.6833\n",
      "Epoch 48/100\n",
      "17/17 [==============================] - 2s 100ms/step - loss: 0.8104 - accuracy: 0.7417 - val_loss: 0.8662 - val_accuracy: 0.6833\n",
      "Epoch 49/100\n",
      "17/17 [==============================] - 2s 100ms/step - loss: 0.7997 - accuracy: 0.7407 - val_loss: 0.8573 - val_accuracy: 0.6917\n",
      "Epoch 50/100\n",
      "17/17 [==============================] - 2s 100ms/step - loss: 0.7897 - accuracy: 0.7426 - val_loss: 0.8481 - val_accuracy: 0.7000\n",
      "Epoch 51/100\n",
      "17/17 [==============================] - 2s 105ms/step - loss: 0.7800 - accuracy: 0.7472 - val_loss: 0.8403 - val_accuracy: 0.7000\n",
      "Epoch 52/100\n",
      "17/17 [==============================] - 2s 100ms/step - loss: 0.7708 - accuracy: 0.7500 - val_loss: 0.8321 - val_accuracy: 0.7000\n",
      "Epoch 53/100\n",
      "17/17 [==============================] - 2s 100ms/step - loss: 0.7621 - accuracy: 0.7500 - val_loss: 0.8249 - val_accuracy: 0.7000\n",
      "Epoch 54/100\n",
      "17/17 [==============================] - 2s 105ms/step - loss: 0.7532 - accuracy: 0.7500 - val_loss: 0.8181 - val_accuracy: 0.7083\n",
      "Epoch 55/100\n",
      "17/17 [==============================] - 2s 105ms/step - loss: 0.7453 - accuracy: 0.7537 - val_loss: 0.8120 - val_accuracy: 0.7083\n",
      "Epoch 56/100\n",
      "17/17 [==============================] - 2s 100ms/step - loss: 0.7374 - accuracy: 0.7519 - val_loss: 0.8059 - val_accuracy: 0.7083\n",
      "Epoch 57/100\n",
      "17/17 [==============================] - 2s 105ms/step - loss: 0.7300 - accuracy: 0.7565 - val_loss: 0.7999 - val_accuracy: 0.7083\n",
      "Epoch 58/100\n",
      "17/17 [==============================] - 2s 100ms/step - loss: 0.7224 - accuracy: 0.7583 - val_loss: 0.7940 - val_accuracy: 0.7167\n",
      "Epoch 59/100\n",
      "17/17 [==============================] - 2s 100ms/step - loss: 0.7155 - accuracy: 0.7620 - val_loss: 0.7885 - val_accuracy: 0.7167\n",
      "Epoch 60/100\n",
      "17/17 [==============================] - 2s 105ms/step - loss: 0.7088 - accuracy: 0.7639 - val_loss: 0.7833 - val_accuracy: 0.7250\n",
      "Epoch 61/100\n",
      "17/17 [==============================] - 2s 101ms/step - loss: 0.7021 - accuracy: 0.7630 - val_loss: 0.7784 - val_accuracy: 0.7167\n",
      "Epoch 62/100\n",
      "17/17 [==============================] - 2s 100ms/step - loss: 0.6958 - accuracy: 0.7667 - val_loss: 0.7736 - val_accuracy: 0.7250\n",
      "Epoch 63/100\n",
      "17/17 [==============================] - 2s 106ms/step - loss: 0.6896 - accuracy: 0.7685 - val_loss: 0.7690 - val_accuracy: 0.7333\n",
      "Epoch 64/100\n",
      "17/17 [==============================] - 2s 100ms/step - loss: 0.6839 - accuracy: 0.7713 - val_loss: 0.7647 - val_accuracy: 0.7417\n",
      "Epoch 65/100\n",
      "17/17 [==============================] - 2s 100ms/step - loss: 0.6782 - accuracy: 0.7713 - val_loss: 0.7608 - val_accuracy: 0.7250\n",
      "Epoch 66/100\n",
      "17/17 [==============================] - 2s 100ms/step - loss: 0.6727 - accuracy: 0.7741 - val_loss: 0.7564 - val_accuracy: 0.7417\n",
      "Epoch 67/100\n",
      "17/17 [==============================] - 2s 100ms/step - loss: 0.6671 - accuracy: 0.7722 - val_loss: 0.7530 - val_accuracy: 0.7417\n",
      "Epoch 68/100\n",
      "17/17 [==============================] - 2s 100ms/step - loss: 0.6621 - accuracy: 0.7769 - val_loss: 0.7492 - val_accuracy: 0.7417\n",
      "Epoch 69/100\n",
      "17/17 [==============================] - 2s 100ms/step - loss: 0.6566 - accuracy: 0.7769 - val_loss: 0.7456 - val_accuracy: 0.7417\n",
      "Epoch 70/100\n",
      "17/17 [==============================] - 2s 100ms/step - loss: 0.6514 - accuracy: 0.7833 - val_loss: 0.7422 - val_accuracy: 0.7417\n",
      "Epoch 71/100\n",
      "17/17 [==============================] - 2s 100ms/step - loss: 0.6462 - accuracy: 0.7852 - val_loss: 0.7386 - val_accuracy: 0.7417\n",
      "Epoch 72/100\n",
      "17/17 [==============================] - 2s 100ms/step - loss: 0.6407 - accuracy: 0.7870 - val_loss: 0.7355 - val_accuracy: 0.7417\n",
      "Epoch 73/100\n",
      "17/17 [==============================] - 2s 100ms/step - loss: 0.6357 - accuracy: 0.7880 - val_loss: 0.7321 - val_accuracy: 0.7417\n",
      "Epoch 74/100\n",
      "17/17 [==============================] - 2s 100ms/step - loss: 0.6308 - accuracy: 0.7907 - val_loss: 0.7292 - val_accuracy: 0.7417\n",
      "Epoch 75/100\n",
      "17/17 [==============================] - 2s 100ms/step - loss: 0.6264 - accuracy: 0.7944 - val_loss: 0.7256 - val_accuracy: 0.7333\n",
      "Epoch 76/100\n",
      "17/17 [==============================] - 2s 101ms/step - loss: 0.6218 - accuracy: 0.7935 - val_loss: 0.7232 - val_accuracy: 0.7417\n",
      "Epoch 77/100\n",
      "17/17 [==============================] - 2s 100ms/step - loss: 0.6171 - accuracy: 0.7954 - val_loss: 0.7196 - val_accuracy: 0.7333\n",
      "Epoch 78/100\n",
      "17/17 [==============================] - 2s 101ms/step - loss: 0.6125 - accuracy: 0.7963 - val_loss: 0.7175 - val_accuracy: 0.7417\n",
      "Epoch 79/100\n",
      "17/17 [==============================] - 2s 100ms/step - loss: 0.6084 - accuracy: 0.7991 - val_loss: 0.7141 - val_accuracy: 0.7333\n",
      "Epoch 80/100\n",
      "17/17 [==============================] - 2s 100ms/step - loss: 0.6036 - accuracy: 0.8000 - val_loss: 0.7118 - val_accuracy: 0.7333\n",
      "Epoch 81/100\n",
      "17/17 [==============================] - 2s 100ms/step - loss: 0.5997 - accuracy: 0.8019 - val_loss: 0.7088 - val_accuracy: 0.7333\n",
      "Epoch 82/100\n",
      "17/17 [==============================] - 2s 105ms/step - loss: 0.5956 - accuracy: 0.8019 - val_loss: 0.7061 - val_accuracy: 0.7417\n",
      "Epoch 83/100\n",
      "17/17 [==============================] - 2s 100ms/step - loss: 0.5915 - accuracy: 0.8046 - val_loss: 0.7028 - val_accuracy: 0.7500\n",
      "Epoch 84/100\n",
      "17/17 [==============================] - 2s 100ms/step - loss: 0.5875 - accuracy: 0.8046 - val_loss: 0.7004 - val_accuracy: 0.7583\n",
      "Epoch 85/100\n",
      "17/17 [==============================] - 2s 105ms/step - loss: 0.5836 - accuracy: 0.8065 - val_loss: 0.6974 - val_accuracy: 0.7667\n",
      "Epoch 86/100\n",
      "17/17 [==============================] - 2s 100ms/step - loss: 0.5796 - accuracy: 0.8083 - val_loss: 0.6947 - val_accuracy: 0.7583\n",
      "Epoch 87/100\n",
      "17/17 [==============================] - 2s 100ms/step - loss: 0.5756 - accuracy: 0.8120 - val_loss: 0.6922 - val_accuracy: 0.7667\n",
      "Epoch 88/100\n",
      "17/17 [==============================] - 2s 100ms/step - loss: 0.5721 - accuracy: 0.8148 - val_loss: 0.6891 - val_accuracy: 0.7667\n",
      "Epoch 89/100\n",
      "17/17 [==============================] - 2s 99ms/step - loss: 0.5680 - accuracy: 0.8157 - val_loss: 0.6862 - val_accuracy: 0.7667\n",
      "Epoch 90/100\n",
      "17/17 [==============================] - 2s 100ms/step - loss: 0.5644 - accuracy: 0.8167 - val_loss: 0.6845 - val_accuracy: 0.7750\n",
      "Epoch 91/100\n",
      "17/17 [==============================] - 2s 100ms/step - loss: 0.5607 - accuracy: 0.8157 - val_loss: 0.6813 - val_accuracy: 0.7750\n",
      "Epoch 92/100\n",
      "17/17 [==============================] - 2s 99ms/step - loss: 0.5569 - accuracy: 0.8176 - val_loss: 0.6790 - val_accuracy: 0.7750\n",
      "Epoch 93/100\n",
      "17/17 [==============================] - 2s 105ms/step - loss: 0.5536 - accuracy: 0.8204 - val_loss: 0.6761 - val_accuracy: 0.7750\n",
      "Epoch 94/100\n",
      "17/17 [==============================] - 2s 100ms/step - loss: 0.5496 - accuracy: 0.8213 - val_loss: 0.6740 - val_accuracy: 0.7750\n",
      "Epoch 95/100\n",
      "17/17 [==============================] - 2s 106ms/step - loss: 0.5464 - accuracy: 0.8222 - val_loss: 0.6715 - val_accuracy: 0.7750\n",
      "Epoch 96/100\n",
      "17/17 [==============================] - 2s 100ms/step - loss: 0.5429 - accuracy: 0.8250 - val_loss: 0.6683 - val_accuracy: 0.7750\n",
      "Epoch 97/100\n",
      "17/17 [==============================] - 2s 100ms/step - loss: 0.5394 - accuracy: 0.8269 - val_loss: 0.6664 - val_accuracy: 0.7750\n",
      "Epoch 98/100\n",
      "17/17 [==============================] - 2s 100ms/step - loss: 0.5360 - accuracy: 0.8269 - val_loss: 0.6647 - val_accuracy: 0.7750\n",
      "Epoch 99/100\n",
      "17/17 [==============================] - 2s 106ms/step - loss: 0.5328 - accuracy: 0.8278 - val_loss: 0.6616 - val_accuracy: 0.7750\n",
      "Epoch 100/100\n",
      "17/17 [==============================] - 2s 100ms/step - loss: 0.5295 - accuracy: 0.8278 - val_loss: 0.6607 - val_accuracy: 0.7750\n"
     ]
    }
   ],
   "source": [
    "train_dataset = tf.data.Dataset.from_tensor_slices((X_train, Y_train)).batch(64)\n",
    "test_dataset = tf.data.Dataset.from_tensor_slices((X_test, Y_test)).batch(64)\n",
    "history = conv_model.fit(train_dataset, epochs=100, validation_data=test_dataset)"
   ]
  },
  {
   "cell_type": "markdown",
   "metadata": {},
   "source": [
    "<a name='5'></a>\n",
    "## 5 - History Object \n",
    "\n",
    "The history object is an output of the `.fit()` operation, and provides a record of all the loss and metric values in memory. It's stored as a dictionary that you can retrieve at `history.history`: "
   ]
  },
  {
   "cell_type": "code",
   "execution_count": 16,
   "metadata": {},
   "outputs": [
    {
     "data": {
      "text/plain": [
       "{'loss': [1.8382338285446167,\n",
       "  1.7878491878509521,\n",
       "  1.7824801206588745,\n",
       "  1.7784128189086914,\n",
       "  1.774993896484375,\n",
       "  1.7698816061019897,\n",
       "  1.764039158821106,\n",
       "  1.7582731246948242,\n",
       "  1.7516820430755615,\n",
       "  1.7436957359313965,\n",
       "  1.7339144945144653,\n",
       "  1.7245328426361084,\n",
       "  1.7115106582641602,\n",
       "  1.6967839002609253,\n",
       "  1.6797586679458618,\n",
       "  1.6598625183105469,\n",
       "  1.6383368968963623,\n",
       "  1.6121851205825806,\n",
       "  1.5854220390319824,\n",
       "  1.5554524660110474,\n",
       "  1.5226333141326904,\n",
       "  1.489025592803955,\n",
       "  1.4527212381362915,\n",
       "  1.414674162864685,\n",
       "  1.3761472702026367,\n",
       "  1.3313477039337158,\n",
       "  1.2880257368087769,\n",
       "  1.246141791343689,\n",
       "  1.2071019411087036,\n",
       "  1.1697020530700684,\n",
       "  1.1357779502868652,\n",
       "  1.104760766029358,\n",
       "  1.0763423442840576,\n",
       "  1.048506498336792,\n",
       "  1.024253249168396,\n",
       "  1.001704216003418,\n",
       "  0.9796842336654663,\n",
       "  0.9588793516159058,\n",
       "  0.9393860697746277,\n",
       "  0.9211423397064209,\n",
       "  0.9042173027992249,\n",
       "  0.8881574869155884,\n",
       "  0.8731168508529663,\n",
       "  0.8592470288276672,\n",
       "  0.8459804654121399,\n",
       "  0.8335137963294983,\n",
       "  0.8218367099761963,\n",
       "  0.8104283213615417,\n",
       "  0.7996677756309509,\n",
       "  0.7897279262542725,\n",
       "  0.7799692749977112,\n",
       "  0.7708361744880676,\n",
       "  0.7620772123336792,\n",
       "  0.7532128691673279,\n",
       "  0.7452711462974548,\n",
       "  0.7373825907707214,\n",
       "  0.72995525598526,\n",
       "  0.7224242687225342,\n",
       "  0.7154503464698792,\n",
       "  0.7088092565536499,\n",
       "  0.7020590305328369,\n",
       "  0.6958364248275757,\n",
       "  0.6895950436592102,\n",
       "  0.6839390993118286,\n",
       "  0.6781752705574036,\n",
       "  0.6726607084274292,\n",
       "  0.6670803427696228,\n",
       "  0.6620724201202393,\n",
       "  0.6565572023391724,\n",
       "  0.6514250040054321,\n",
       "  0.6461632251739502,\n",
       "  0.6407476663589478,\n",
       "  0.6357168555259705,\n",
       "  0.6307821273803711,\n",
       "  0.6263925433158875,\n",
       "  0.6217584013938904,\n",
       "  0.6170609593391418,\n",
       "  0.6124585270881653,\n",
       "  0.6083590388298035,\n",
       "  0.6036273241043091,\n",
       "  0.5997123718261719,\n",
       "  0.5955520868301392,\n",
       "  0.5914751291275024,\n",
       "  0.5875383615493774,\n",
       "  0.5836372971534729,\n",
       "  0.5796054005622864,\n",
       "  0.5756238698959351,\n",
       "  0.5721131563186646,\n",
       "  0.5680249333381653,\n",
       "  0.564378023147583,\n",
       "  0.5607256889343262,\n",
       "  0.5569363236427307,\n",
       "  0.5535510778427124,\n",
       "  0.5496106147766113,\n",
       "  0.5464421510696411,\n",
       "  0.5428581237792969,\n",
       "  0.5394367575645447,\n",
       "  0.5360397696495056,\n",
       "  0.5328405499458313,\n",
       "  0.5295319557189941],\n",
       " 'accuracy': [0.1388888955116272,\n",
       "  0.13611111044883728,\n",
       "  0.2537037134170532,\n",
       "  0.20555555820465088,\n",
       "  0.24074074625968933,\n",
       "  0.3194444477558136,\n",
       "  0.3583333194255829,\n",
       "  0.3759259283542633,\n",
       "  0.3916666805744171,\n",
       "  0.4148148000240326,\n",
       "  0.4138889014720917,\n",
       "  0.4148148000240326,\n",
       "  0.43888887763023376,\n",
       "  0.4444444477558136,\n",
       "  0.46296295523643494,\n",
       "  0.48240742087364197,\n",
       "  0.47685185074806213,\n",
       "  0.4870370328426361,\n",
       "  0.489814817905426,\n",
       "  0.5083333253860474,\n",
       "  0.520370364189148,\n",
       "  0.5305555462837219,\n",
       "  0.5518518686294556,\n",
       "  0.5731481313705444,\n",
       "  0.5842592716217041,\n",
       "  0.6009259223937988,\n",
       "  0.6138888597488403,\n",
       "  0.6120370626449585,\n",
       "  0.6240741014480591,\n",
       "  0.6361111402511597,\n",
       "  0.645370364189148,\n",
       "  0.6537036895751953,\n",
       "  0.6564815044403076,\n",
       "  0.6666666865348816,\n",
       "  0.6740740537643433,\n",
       "  0.6870370507240295,\n",
       "  0.6935185194015503,\n",
       "  0.6981481313705444,\n",
       "  0.7037037014961243,\n",
       "  0.7074074149131775,\n",
       "  0.7129629850387573,\n",
       "  0.7175925970077515,\n",
       "  0.7222222089767456,\n",
       "  0.7240740656852722,\n",
       "  0.729629635810852,\n",
       "  0.7324073910713196,\n",
       "  0.7388888597488403,\n",
       "  0.7416666746139526,\n",
       "  0.7407407164573669,\n",
       "  0.7425925731658936,\n",
       "  0.7472222447395325,\n",
       "  0.75,\n",
       "  0.75,\n",
       "  0.75,\n",
       "  0.7537037134170532,\n",
       "  0.7518518567085266,\n",
       "  0.7564814686775208,\n",
       "  0.7583333253860474,\n",
       "  0.7620370388031006,\n",
       "  0.7638888955116272,\n",
       "  0.7629629373550415,\n",
       "  0.7666666507720947,\n",
       "  0.7685185074806213,\n",
       "  0.7712963223457336,\n",
       "  0.7712963223457336,\n",
       "  0.7740740776062012,\n",
       "  0.7722222208976746,\n",
       "  0.7768518328666687,\n",
       "  0.7768518328666687,\n",
       "  0.7833333611488342,\n",
       "  0.7851851582527161,\n",
       "  0.7870370149612427,\n",
       "  0.7879629731178284,\n",
       "  0.7907407283782959,\n",
       "  0.7944444417953491,\n",
       "  0.7935185432434082,\n",
       "  0.7953703999519348,\n",
       "  0.7962962985038757,\n",
       "  0.7990740537643433,\n",
       "  0.800000011920929,\n",
       "  0.8018518686294556,\n",
       "  0.8018518686294556,\n",
       "  0.8046296238899231,\n",
       "  0.8046296238899231,\n",
       "  0.8064814805984497,\n",
       "  0.8083333373069763,\n",
       "  0.8120370507240295,\n",
       "  0.8148148059844971,\n",
       "  0.8157407641410828,\n",
       "  0.8166666626930237,\n",
       "  0.8157407641410828,\n",
       "  0.8175926208496094,\n",
       "  0.8203703761100769,\n",
       "  0.8212962746620178,\n",
       "  0.8222222328186035,\n",
       "  0.824999988079071,\n",
       "  0.8268518447875977,\n",
       "  0.8268518447875977,\n",
       "  0.8277778029441833,\n",
       "  0.8277778029441833],\n",
       " 'val_loss': [1.7866313457489014,\n",
       "  1.7831051349639893,\n",
       "  1.779228687286377,\n",
       "  1.7756381034851074,\n",
       "  1.770696997642517,\n",
       "  1.7664637565612793,\n",
       "  1.7618701457977295,\n",
       "  1.7555793523788452,\n",
       "  1.748583197593689,\n",
       "  1.7406728267669678,\n",
       "  1.7322499752044678,\n",
       "  1.7215094566345215,\n",
       "  1.7094542980194092,\n",
       "  1.6953644752502441,\n",
       "  1.6789411306381226,\n",
       "  1.6601977348327637,\n",
       "  1.6388468742370605,\n",
       "  1.6151553392410278,\n",
       "  1.5875641107559204,\n",
       "  1.5572291612625122,\n",
       "  1.5281281471252441,\n",
       "  1.4915225505828857,\n",
       "  1.463003158569336,\n",
       "  1.4287511110305786,\n",
       "  1.3849403858184814,\n",
       "  1.3464391231536865,\n",
       "  1.3017135858535767,\n",
       "  1.2685524225234985,\n",
       "  1.2283574342727661,\n",
       "  1.1989847421646118,\n",
       "  1.1646634340286255,\n",
       "  1.138604760169983,\n",
       "  1.1086280345916748,\n",
       "  1.084381341934204,\n",
       "  1.056298851966858,\n",
       "  1.0387710332870483,\n",
       "  1.0134902000427246,\n",
       "  0.9941784143447876,\n",
       "  0.9744560718536377,\n",
       "  0.9591531157493591,\n",
       "  0.9442129731178284,\n",
       "  0.9311946630477905,\n",
       "  0.9182900786399841,\n",
       "  0.9070472717285156,\n",
       "  0.8956683874130249,\n",
       "  0.8856126070022583,\n",
       "  0.8758897185325623,\n",
       "  0.8662465810775757,\n",
       "  0.8573133945465088,\n",
       "  0.8481487035751343,\n",
       "  0.8402568697929382,\n",
       "  0.8320544362068176,\n",
       "  0.8249321579933167,\n",
       "  0.8180711269378662,\n",
       "  0.8120197057723999,\n",
       "  0.8059271574020386,\n",
       "  0.7998706698417664,\n",
       "  0.7939687371253967,\n",
       "  0.7885374426841736,\n",
       "  0.783281683921814,\n",
       "  0.7783654928207397,\n",
       "  0.7735894322395325,\n",
       "  0.7690398693084717,\n",
       "  0.764660656452179,\n",
       "  0.760817289352417,\n",
       "  0.756363034248352,\n",
       "  0.7530491948127747,\n",
       "  0.7491880655288696,\n",
       "  0.7456232905387878,\n",
       "  0.7421655058860779,\n",
       "  0.7386044263839722,\n",
       "  0.7355031967163086,\n",
       "  0.7320541143417358,\n",
       "  0.7292118668556213,\n",
       "  0.7256019711494446,\n",
       "  0.7232135534286499,\n",
       "  0.7196306586265564,\n",
       "  0.7174862027168274,\n",
       "  0.7140995264053345,\n",
       "  0.711807370185852,\n",
       "  0.7087727189064026,\n",
       "  0.7060728073120117,\n",
       "  0.70279461145401,\n",
       "  0.7004474997520447,\n",
       "  0.6973711252212524,\n",
       "  0.6946746706962585,\n",
       "  0.6922481656074524,\n",
       "  0.6891108155250549,\n",
       "  0.6862186789512634,\n",
       "  0.6844939589500427,\n",
       "  0.6812598705291748,\n",
       "  0.6790139675140381,\n",
       "  0.6761291027069092,\n",
       "  0.6739704012870789,\n",
       "  0.6714812517166138,\n",
       "  0.6683302521705627,\n",
       "  0.6663860082626343,\n",
       "  0.6647403836250305,\n",
       "  0.6616108417510986,\n",
       "  0.6606817245483398],\n",
       " 'val_accuracy': [0.17499999701976776,\n",
       "  0.17499999701976776,\n",
       "  0.2666666805744171,\n",
       "  0.24166665971279144,\n",
       "  0.3583333194255829,\n",
       "  0.3583333194255829,\n",
       "  0.3916666805744171,\n",
       "  0.42500001192092896,\n",
       "  0.4416666626930237,\n",
       "  0.44999998807907104,\n",
       "  0.44999998807907104,\n",
       "  0.46666666865348816,\n",
       "  0.49166667461395264,\n",
       "  0.5166666507720947,\n",
       "  0.5083333253860474,\n",
       "  0.4833333194255829,\n",
       "  0.46666666865348816,\n",
       "  0.4833333194255829,\n",
       "  0.49166667461395264,\n",
       "  0.5249999761581421,\n",
       "  0.5166666507720947,\n",
       "  0.550000011920929,\n",
       "  0.5166666507720947,\n",
       "  0.5333333611488342,\n",
       "  0.5333333611488342,\n",
       "  0.5416666865348816,\n",
       "  0.5583333373069763,\n",
       "  0.5583333373069763,\n",
       "  0.5666666626930237,\n",
       "  0.574999988079071,\n",
       "  0.5833333134651184,\n",
       "  0.6083333492279053,\n",
       "  0.625,\n",
       "  0.625,\n",
       "  0.625,\n",
       "  0.6333333253860474,\n",
       "  0.6333333253860474,\n",
       "  0.6499999761581421,\n",
       "  0.6499999761581421,\n",
       "  0.6583333611488342,\n",
       "  0.675000011920929,\n",
       "  0.675000011920929,\n",
       "  0.675000011920929,\n",
       "  0.6666666865348816,\n",
       "  0.675000011920929,\n",
       "  0.675000011920929,\n",
       "  0.6833333373069763,\n",
       "  0.6833333373069763,\n",
       "  0.6916666626930237,\n",
       "  0.699999988079071,\n",
       "  0.699999988079071,\n",
       "  0.699999988079071,\n",
       "  0.699999988079071,\n",
       "  0.7083333134651184,\n",
       "  0.7083333134651184,\n",
       "  0.7083333134651184,\n",
       "  0.7083333134651184,\n",
       "  0.7166666388511658,\n",
       "  0.7166666388511658,\n",
       "  0.7250000238418579,\n",
       "  0.7166666388511658,\n",
       "  0.7250000238418579,\n",
       "  0.7333333492279053,\n",
       "  0.7416666746139526,\n",
       "  0.7250000238418579,\n",
       "  0.7416666746139526,\n",
       "  0.7416666746139526,\n",
       "  0.7416666746139526,\n",
       "  0.7416666746139526,\n",
       "  0.7416666746139526,\n",
       "  0.7416666746139526,\n",
       "  0.7416666746139526,\n",
       "  0.7416666746139526,\n",
       "  0.7416666746139526,\n",
       "  0.7333333492279053,\n",
       "  0.7416666746139526,\n",
       "  0.7333333492279053,\n",
       "  0.7416666746139526,\n",
       "  0.7333333492279053,\n",
       "  0.7333333492279053,\n",
       "  0.7333333492279053,\n",
       "  0.7416666746139526,\n",
       "  0.75,\n",
       "  0.7583333253860474,\n",
       "  0.7666666507720947,\n",
       "  0.7583333253860474,\n",
       "  0.7666666507720947,\n",
       "  0.7666666507720947,\n",
       "  0.7666666507720947,\n",
       "  0.7749999761581421,\n",
       "  0.7749999761581421,\n",
       "  0.7749999761581421,\n",
       "  0.7749999761581421,\n",
       "  0.7749999761581421,\n",
       "  0.7749999761581421,\n",
       "  0.7749999761581421,\n",
       "  0.7749999761581421,\n",
       "  0.7749999761581421,\n",
       "  0.7749999761581421,\n",
       "  0.7749999761581421]}"
      ]
     },
     "execution_count": 16,
     "metadata": {},
     "output_type": "execute_result"
    }
   ],
   "source": [
    "history.history"
   ]
  },
  {
   "cell_type": "markdown",
   "metadata": {},
   "source": [
    "Now visualize the loss over time using `history.history`: "
   ]
  },
  {
   "cell_type": "code",
   "execution_count": 17,
   "metadata": {},
   "outputs": [
    {
     "data": {
      "text/plain": [
       "[Text(0, 0.5, 'Accuracy'), Text(0.5, 0, 'Epoch')]"
      ]
     },
     "execution_count": 17,
     "metadata": {},
     "output_type": "execute_result"
    },
    {
     "data": {
      "image/png": "[encoded data removed]",
      "text/plain": [
       "<Figure size 864x576 with 1 Axes>"
      ]
     },
     "metadata": {
      "needs_background": "light"
     },
     "output_type": "display_data"
    },
    {
     "data": {
      "image/png": "[encoded data removed]",
      "text/plain": [
       "<Figure size 864x576 with 1 Axes>"
      ]
     },
     "metadata": {
      "needs_background": "light"
     },
     "output_type": "display_data"
    }
   ],
   "source": [
    "# The history.history[\"loss\"] entry is a dictionary with as many values as epochs that the\n",
    "# model was trained on. \n",
    "df_loss_acc = pd.DataFrame(history.history)\n",
    "df_loss= df_loss_acc[['loss','val_loss']]\n",
    "df_loss.rename(columns={'loss':'train','val_loss':'validation'},inplace=True)\n",
    "df_acc= df_loss_acc[['accuracy','val_accuracy']]\n",
    "df_acc.rename(columns={'accuracy':'train','val_accuracy':'validation'},inplace=True)\n",
    "df_loss.plot(title='Model loss',figsize=(12,8)).set(xlabel='Epoch',ylabel='Loss')\n",
    "df_acc.plot(title='Model Accuracy',figsize=(12,8)).set(xlabel='Epoch',ylabel='Accuracy')"
   ]
  },
  {
   "cell_type": "markdown",
   "metadata": {},
   "source": [
    "**Congratulations**! You've finished the assignment and built two models: One that recognizes  smiles, and another that recognizes SIGN language with almost 80% accuracy on the test set. In addition to that, you now also understand the applications of two Keras APIs: Sequential and Functional. Nicely done! \n",
    "\n",
    "By now, you know a bit about how the Functional API works and may have glimpsed the possibilities. In your next assignment, you'll really get a feel for its power when you get the opportunity to build a very deep ConvNet, using ResNets! "
   ]
  },
  {
   "cell_type": "markdown",
   "metadata": {},
   "source": [
    "<a name='6'></a>\n",
    "## 6 - Bibliography\n",
    "\n",
    "You're always encouraged to read the official documentation. To that end, you can find the docs for the Sequential and Functional APIs here: \n",
    "\n",
    "https://www.tensorflow.org/guide/keras/sequential_model\n",
    "\n",
    "https://www.tensorflow.org/guide/keras/functional"
   ]
  }
 ],
 "metadata": {
  "coursera": {
   "course_slug": "convolutional-neural-networks",
   "graded_item_id": "bwbJV",
   "launcher_item_id": "0TkXB"
  },
  "kernelspec": {
   "display_name": "Python 3",
   "language": "python",
   "name": "python3"
  },
  "language_info": {
   "codemirror_mode": {
    "name": "ipython",
    "version": 3
   },
   "file_extension": ".py",
   "mimetype": "text/x-python",
   "name": "python",
   "nbconvert_exporter": "python",
   "pygments_lexer": "ipython3",
   "version": "3.7.6"
  }
 },
 "nbformat": 4,
 "nbformat_minor": 2
}
